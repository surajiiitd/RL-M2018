{
 "cells": [
  {
   "cell_type": "code",
   "execution_count": 1,
   "metadata": {},
   "outputs": [],
   "source": [
    "# Packages to be imported\n",
    "# Referenced : https://github.com/ShangtongZhang/reinforcement-learning-an-introduction/blob/master/chapter03/grid_world.py \n",
    "from matplotlib.table import Table\n",
    "import matplotlib\n",
    "import copy\n",
    "import matplotlib.pyplot as plt\n",
    "import numpy as np\n",
    "matplotlib.use('Agg')\n",
    "import warnings\n",
    "warnings.filterwarnings(\"ignore\")"
   ]
  },
  {
   "cell_type": "code",
   "execution_count": 2,
   "metadata": {},
   "outputs": [],
   "source": [
    "def global_variable_declaration():\n",
    "    '''Declaration of all the global variables '''\n",
    "    # Global variable declaration \n",
    "    \n",
    "    WORLD_SIZE = 5\n",
    "    # World size\n",
    "    B_POS = [0, 3]\n",
    "    # B initial size\n",
    "    B_PRIME_POS = [2, 3]\n",
    "    # B prime position\n",
    "    A_POS = [0, 1]\n",
    "    # A initial position\n",
    "    A_PRIME_POS = [4, 1]\n",
    "    # A prime position\n",
    "    DISCOUNT = 0.9\n",
    "    # Discount factor\n",
    "    # Equal probability will be so 0.25 since four actions are there .\n",
    "    ACTION_PROB = 0.25\n",
    "    # Probability of action to be taken\n",
    "    # left, up, right, down\n",
    "    # Set of Actions\n",
    "    actions_list = [[0, -1],[-1,0],[0,1],[1,0]]\n",
    "    # To convert it into numpy array\n",
    "    ACTIONS = np.array(actions_list)\n",
    "    # returning all the assigned global values \n",
    "    return WORLD_SIZE,A_POS,A_PRIME_POS,B_POS,B_PRIME_POS,DISCOUNT,ACTIONS,ACTION_PROB"
   ]
  },
  {
   "cell_type": "code",
   "execution_count": 3,
   "metadata": {},
   "outputs": [],
   "source": [
    "# Calling the function to store all the global variables\n",
    "WORLD_SIZE,A_POS,A_PRIME_POS,B_POS,B_PRIME_POS,DISCOUNT,ACTIONS,ACTION_PROB = global_variable_declaration()"
   ]
  },
  {
   "cell_type": "code",
   "execution_count": null,
   "metadata": {},
   "outputs": [],
   "source": []
  },
  {
   "cell_type": "code",
   "execution_count": 4,
   "metadata": {},
   "outputs": [],
   "source": [
    "def step(state, action):\n",
    "    '''Function to take next step given state and actions\n",
    "    Parameters are as :\n",
    "    state : The present state\n",
    "    action : The action to be taken \n",
    "    '''\n",
    "    \n",
    "    # If the state is equal to A's initial pos then return A's prime position and 10\n",
    "    if state == A_POS:\n",
    "        return A_PRIME_POS, 10\n",
    "    # If the state is equal to B's initial pos then return B's prime position and 5\n",
    "    elif state == B_POS:\n",
    "        return B_PRIME_POS, 5\n",
    "\n",
    "#     print(np.array(state).shape,action.shape)\n",
    "    # Making the next state by concatenating the state and action array\n",
    "    next_state = (np.array(state) + action)\n",
    "#     print(next_state.shape)\n",
    "    next_state=next_state.tolist()\n",
    "    ###\n",
    "    ###\n",
    "    x= next_state[0]\n",
    "    y = next_state[1]\n",
    "    # Condition to assign the next state and reward\n",
    "    if x < 0 or x >= WORLD_SIZE or y < 0 or y >= WORLD_SIZE:\n",
    "        reward = -1.0\n",
    "        next_state = state\n",
    "    else:\n",
    "        reward = 0\n",
    "    # Returning the next state and reward\n",
    "    return next_state, reward\n"
   ]
  },
  {
   "cell_type": "code",
   "execution_count": 5,
   "metadata": {},
   "outputs": [],
   "source": [
    "def enumerate_table(image,width,height,tb):\n",
    "    '''To enumerate the table cells\n",
    "    Parameters are as :\n",
    "    image : image to be plotted \n",
    "    width : width \n",
    "    height : height\n",
    "    tb : tb cell table variable'''\n",
    "    # Add cells\n",
    "\n",
    "    for (i, j), val in np.ndenumerate(image):\n",
    "        tb.add_cell(i, j, width, height, text=val,\n",
    "                    loc='center', facecolor='white')\n",
    "        \n",
    "    return tb"
   ]
  },
  {
   "cell_type": "code",
   "execution_count": 6,
   "metadata": {},
   "outputs": [],
   "source": [
    "def add_cell(image,width,height,tb):\n",
    "    '''To make the loop to add cells \n",
    "    Parameters are as:\n",
    "    image: image to plot \n",
    "    width : width \n",
    "    height : height \n",
    "    tb : table variable \n",
    "    '''\n",
    "    \n",
    "    for i in range(len(image)):\n",
    "            tb.add_cell(i, -1, width, height, text=i+1, loc='right',\n",
    "                        edgecolor='none', facecolor='none')\n",
    "            tb.add_cell(-1, i, width, height/2, text=i+1, loc='center',\n",
    "                        edgecolor='none', facecolor='none')\n",
    "    return tb"
   ]
  },
  {
   "cell_type": "code",
   "execution_count": 7,
   "metadata": {},
   "outputs": [],
   "source": [
    "def draw_table(image,ax):\n",
    "    '''To draw the table \n",
    "    Parameters are as:\n",
    "    image : image to make the table \n",
    "    '''\n",
    "    \n",
    "    tb = Table(ax, bbox=[0, 0, 1, 1])\n",
    "    nrows, ncols = image.shape\n",
    "    width = float(1.0 / ncols)\n",
    "    height = float(1.0 / nrows)\n",
    "    \n",
    "    tb = enumerate_table(image,width,height,tb)\n",
    "    # Row and column labels for table\n",
    "    \n",
    "    tb = add_cell(image,width,height,tb)\n",
    "    ax.add_table(tb)\n",
    "    \n"
   ]
  },
  {
   "cell_type": "code",
   "execution_count": 8,
   "metadata": {},
   "outputs": [],
   "source": [
    "def draw_image(image):\n",
    "    '''To draw rhe table for given data\n",
    "    Parameters are as:\n",
    "    image: Image for which making the table\n",
    "    '''\n",
    "    \n",
    "    fig, ax = plt.subplots()\n",
    "    ax.set_axis_off()\n",
    "    draw_table(image,ax)\n",
    "    "
   ]
  },
  {
   "cell_type": "code",
   "execution_count": null,
   "metadata": {},
   "outputs": [],
   "source": []
  },
  {
   "cell_type": "code",
   "execution_count": 9,
   "metadata": {},
   "outputs": [],
   "source": [
    "def bellmann_updation(value):\n",
    "    '''Bellmannn equation updation function \n",
    "    Parameters are as:\n",
    "    value : value \n",
    "    action : action taken \n",
    "    reward : reward used\n",
    "    '''\n",
    "    new_value = np.zeros_like(value)\n",
    "    for i in range(WORLD_SIZE):\n",
    "        for j in range(WORLD_SIZE):\n",
    "            values = []\n",
    "            for action in ACTIONS:\n",
    "                (next_i, next_j), reward = step([i, j], action)\n",
    "                # value iteration in state\n",
    "                values.append(reward + DISCOUNT * value[next_i, next_j])\n",
    "            new_value[i, j] = np.max(values)\n",
    "    return new_value"
   ]
  },
  {
   "cell_type": "code",
   "execution_count": null,
   "metadata": {},
   "outputs": [],
   "source": []
  },
  {
   "cell_type": "code",
   "execution_count": 10,
   "metadata": {},
   "outputs": [],
   "source": [
    "def check_termination(value,new_value,cons):\n",
    "    '''To check termination for loop\n",
    "    Parameters are as:\n",
    "    value : value \n",
    "    new_value : new_ value i.e, modified value\n",
    "    cons :  constant to check for error\n",
    "    '''\n",
    "    \n",
    "    absolute = np.abs(value - new_value)\n",
    "    absolute_array = np.array(absolute)\n",
    "#     print(np.sum(absolute_array))\n",
    "    if np.sum(absolute_array) <= cons:\n",
    "        ### \n",
    "        # To check the change in variable i.e, kind of error\n",
    "        ###\n",
    "        change = np.round(new_value, decimals=3)\n",
    "        draw_image(change)\n",
    "        plt.savefig('../images/figure_3_5.png')\n",
    "        ## To giv ethe title\n",
    "        plt.title(\"Table 3.5\")\n",
    "        plt.close()\n",
    "        return True\n",
    "    return False"
   ]
  },
  {
   "cell_type": "code",
   "execution_count": null,
   "metadata": {},
   "outputs": [],
   "source": []
  },
  {
   "cell_type": "code",
   "execution_count": 11,
   "metadata": {},
   "outputs": [],
   "source": [
    "'''To make the table plot and save in images directory of previous location directory'''\n",
    "# To make the figure\n",
    "# To make the array of size WORLD_SIZE, WORLD_SIZE\n",
    "value = np.zeros((WORLD_SIZE, WORLD_SIZE))\n",
    "\n",
    "# While loop with terminating condition \n",
    "counter =0\n",
    "while True:\n",
    "    counter = counter +1\n",
    "    # keep iteration until convergence\n",
    "    # Making the duplicate of value variable \n",
    "    \n",
    "    new_value = bellmann_updation(value)\n",
    "    # If the the change in the value will be less than 1e-4 then terminate and save the figure\n",
    "    condition = check_termination(value,new_value,cons=1e-4)\n",
    "    if condition == True:\n",
    "        # To  break when it is done\n",
    "        break\n",
    "    else:\n",
    "        pass\n",
    "    value = new_value"
   ]
  },
  {
   "cell_type": "code",
   "execution_count": null,
   "metadata": {},
   "outputs": [],
   "source": []
  },
  {
   "cell_type": "code",
   "execution_count": null,
   "metadata": {},
   "outputs": [],
   "source": []
  },
  {
   "cell_type": "code",
   "execution_count": null,
   "metadata": {},
   "outputs": [],
   "source": []
  }
 ],
 "metadata": {
  "kernelspec": {
   "display_name": "Python 3",
   "language": "python",
   "name": "python3"
  },
  "language_info": {
   "codemirror_mode": {
    "name": "ipython",
    "version": 3
   },
   "file_extension": ".py",
   "mimetype": "text/x-python",
   "name": "python",
   "nbconvert_exporter": "python",
   "pygments_lexer": "ipython3",
   "version": "3.7.1"
  }
 },
 "nbformat": 4,
 "nbformat_minor": 2
}
